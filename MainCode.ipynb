{
 "cells": [
  {
   "cell_type": "code",
   "execution_count": 1,
   "id": "ccfddaf8",
   "metadata": {},
   "outputs": [],
   "source": [
    "import numpy as np\n",
    "import scipy.stats as ss\n",
    "import matplotlib.pyplot as plt\n",
    "import pandas as pd\n",
    "import random\n",
    "import math"
   ]
  },
  {
   "cell_type": "code",
   "execution_count": 3,
   "id": "026c020f",
   "metadata": {},
   "outputs": [],
   "source": [
    "df = pd.read_excel(\"Project Data.xlsx\")"
   ]
  },
  {
   "cell_type": "code",
   "execution_count": 4,
   "id": "fa466c48",
   "metadata": {
    "scrolled": true
   },
   "outputs": [
    {
     "data": {
      "text/html": [
       "<div>\n",
       "<style scoped>\n",
       "    .dataframe tbody tr th:only-of-type {\n",
       "        vertical-align: middle;\n",
       "    }\n",
       "\n",
       "    .dataframe tbody tr th {\n",
       "        vertical-align: top;\n",
       "    }\n",
       "\n",
       "    .dataframe thead th {\n",
       "        text-align: right;\n",
       "    }\n",
       "</style>\n",
       "<table border=\"1\" class=\"dataframe\">\n",
       "  <thead>\n",
       "    <tr style=\"text-align: right;\">\n",
       "      <th></th>\n",
       "      <th>Part</th>\n",
       "      <th>Equipment Station</th>\n",
       "      <th>Name</th>\n",
       "      <th>Annual Frequency of Failure</th>\n",
       "      <th>Probablity of Failure</th>\n",
       "      <th>How are we dealing with failure?</th>\n",
       "      <th>Critical / Non -Critical</th>\n",
       "      <th>Triangular rework</th>\n",
       "      <th>Min_Rew_Triang</th>\n",
       "      <th>Mode_Rew_Triang</th>\n",
       "      <th>Max_Rew_Triang</th>\n",
       "      <th>Failure frequency</th>\n",
       "      <th>Repair Triangular</th>\n",
       "      <th>Min_Rep_Triang</th>\n",
       "      <th>Mode_Rep_Triang</th>\n",
       "      <th>Max_Rep_Triang</th>\n",
       "      <th>Num of parts per batch</th>\n",
       "      <th>Mean time arrival</th>\n",
       "      <th>Safety stock</th>\n",
       "    </tr>\n",
       "  </thead>\n",
       "  <tbody>\n",
       "    <tr>\n",
       "      <th>0</th>\n",
       "      <td>Trim 1</td>\n",
       "      <td>1</td>\n",
       "      <td>ManOp</td>\n",
       "      <td>NaN</td>\n",
       "      <td>NaN</td>\n",
       "      <td>NaN</td>\n",
       "      <td>Line Stoppage</td>\n",
       "      <td>NaN</td>\n",
       "      <td>NaN</td>\n",
       "      <td>NaN</td>\n",
       "      <td>NaN</td>\n",
       "      <td>NaN</td>\n",
       "      <td>NaN</td>\n",
       "      <td>NaN</td>\n",
       "      <td>NaN</td>\n",
       "      <td>NaN</td>\n",
       "      <td>240</td>\n",
       "      <td>240</td>\n",
       "      <td>28.80</td>\n",
       "    </tr>\n",
       "    <tr>\n",
       "      <th>1</th>\n",
       "      <td>NaN</td>\n",
       "      <td>2</td>\n",
       "      <td>Manipulator 1</td>\n",
       "      <td>10.0</td>\n",
       "      <td>0.999962</td>\n",
       "      <td>Either repair or find a way to run the line us...</td>\n",
       "      <td>Line Stoppage</td>\n",
       "      <td>NaN</td>\n",
       "      <td>NaN</td>\n",
       "      <td>NaN</td>\n",
       "      <td>NaN</td>\n",
       "      <td>Moderately rarely</td>\n",
       "      <td>(1,5,15)</td>\n",
       "      <td>1.0</td>\n",
       "      <td>5.0</td>\n",
       "      <td>15.0</td>\n",
       "      <td>160</td>\n",
       "      <td>160</td>\n",
       "      <td>19.20</td>\n",
       "    </tr>\n",
       "    <tr>\n",
       "      <th>2</th>\n",
       "      <td>NaN</td>\n",
       "      <td>3</td>\n",
       "      <td>Manipulator 2</td>\n",
       "      <td>10.0</td>\n",
       "      <td>0.999962</td>\n",
       "      <td>Either repair or find a way to run the line us...</td>\n",
       "      <td>Line Stoppage</td>\n",
       "      <td>NaN</td>\n",
       "      <td>NaN</td>\n",
       "      <td>NaN</td>\n",
       "      <td>NaN</td>\n",
       "      <td>Moderately rarely</td>\n",
       "      <td>(1,5,15)</td>\n",
       "      <td>1.0</td>\n",
       "      <td>5.0</td>\n",
       "      <td>15.0</td>\n",
       "      <td>80</td>\n",
       "      <td>80</td>\n",
       "      <td>9.60</td>\n",
       "    </tr>\n",
       "    <tr>\n",
       "      <th>3</th>\n",
       "      <td>NaN</td>\n",
       "      <td>4</td>\n",
       "      <td>ManOp</td>\n",
       "      <td>NaN</td>\n",
       "      <td>NaN</td>\n",
       "      <td>NaN</td>\n",
       "      <td>Line Stoppage</td>\n",
       "      <td>NaN</td>\n",
       "      <td>NaN</td>\n",
       "      <td>NaN</td>\n",
       "      <td>NaN</td>\n",
       "      <td>NaN</td>\n",
       "      <td>NaN</td>\n",
       "      <td>NaN</td>\n",
       "      <td>NaN</td>\n",
       "      <td>NaN</td>\n",
       "      <td>320</td>\n",
       "      <td>320</td>\n",
       "      <td>38.40</td>\n",
       "    </tr>\n",
       "    <tr>\n",
       "      <th>4</th>\n",
       "      <td>NaN</td>\n",
       "      <td>5</td>\n",
       "      <td>ManOp</td>\n",
       "      <td>NaN</td>\n",
       "      <td>NaN</td>\n",
       "      <td>NaN</td>\n",
       "      <td>Line Stoppage</td>\n",
       "      <td>NaN</td>\n",
       "      <td>NaN</td>\n",
       "      <td>NaN</td>\n",
       "      <td>NaN</td>\n",
       "      <td>NaN</td>\n",
       "      <td>NaN</td>\n",
       "      <td>NaN</td>\n",
       "      <td>NaN</td>\n",
       "      <td>NaN</td>\n",
       "      <td>192</td>\n",
       "      <td>192</td>\n",
       "      <td>23.04</td>\n",
       "    </tr>\n",
       "    <tr>\n",
       "      <th>5</th>\n",
       "      <td>NaN</td>\n",
       "      <td>6</td>\n",
       "      <td>Direct Glazing Glass Assembly</td>\n",
       "      <td>5.0</td>\n",
       "      <td>0.999981</td>\n",
       "      <td>Repair / Replace spare parts, manual not possible</td>\n",
       "      <td>Line Stoppage</td>\n",
       "      <td>NaN</td>\n",
       "      <td>NaN</td>\n",
       "      <td>NaN</td>\n",
       "      <td>NaN</td>\n",
       "      <td>Rarely fails and has a spare</td>\n",
       "      <td>(2,7,30)</td>\n",
       "      <td>2.0</td>\n",
       "      <td>7.0</td>\n",
       "      <td>30.0</td>\n",
       "      <td>192</td>\n",
       "      <td>192</td>\n",
       "      <td>23.04</td>\n",
       "    </tr>\n",
       "    <tr>\n",
       "      <th>6</th>\n",
       "      <td>Trim 2</td>\n",
       "      <td>7</td>\n",
       "      <td>ManOp</td>\n",
       "      <td>NaN</td>\n",
       "      <td>NaN</td>\n",
       "      <td>NaN</td>\n",
       "      <td>Reworked</td>\n",
       "      <td>(1,2,3)</td>\n",
       "      <td>1.0</td>\n",
       "      <td>2.0</td>\n",
       "      <td>3.0</td>\n",
       "      <td>NaN</td>\n",
       "      <td>NaN</td>\n",
       "      <td>NaN</td>\n",
       "      <td>NaN</td>\n",
       "      <td>NaN</td>\n",
       "      <td>240</td>\n",
       "      <td>240</td>\n",
       "      <td>28.80</td>\n",
       "    </tr>\n",
       "    <tr>\n",
       "      <th>7</th>\n",
       "      <td>NaN</td>\n",
       "      <td>8</td>\n",
       "      <td>Manipulator 3</td>\n",
       "      <td>10.0</td>\n",
       "      <td>0.999962</td>\n",
       "      <td>Either repair or find a way to run the line us...</td>\n",
       "      <td>Line Stoppage</td>\n",
       "      <td>NaN</td>\n",
       "      <td>NaN</td>\n",
       "      <td>NaN</td>\n",
       "      <td>NaN</td>\n",
       "      <td>Moderately rarely</td>\n",
       "      <td>(1,5,15)</td>\n",
       "      <td>1.0</td>\n",
       "      <td>5.0</td>\n",
       "      <td>15.0</td>\n",
       "      <td>96</td>\n",
       "      <td>96</td>\n",
       "      <td>11.52</td>\n",
       "    </tr>\n",
       "    <tr>\n",
       "      <th>8</th>\n",
       "      <td>NaN</td>\n",
       "      <td>9</td>\n",
       "      <td>ManOp</td>\n",
       "      <td>NaN</td>\n",
       "      <td>NaN</td>\n",
       "      <td>NaN</td>\n",
       "      <td>Line Stoppage</td>\n",
       "      <td>NaN</td>\n",
       "      <td>NaN</td>\n",
       "      <td>NaN</td>\n",
       "      <td>NaN</td>\n",
       "      <td>NaN</td>\n",
       "      <td>NaN</td>\n",
       "      <td>NaN</td>\n",
       "      <td>NaN</td>\n",
       "      <td>NaN</td>\n",
       "      <td>320</td>\n",
       "      <td>320</td>\n",
       "      <td>38.40</td>\n",
       "    </tr>\n",
       "    <tr>\n",
       "      <th>9</th>\n",
       "      <td>NaN</td>\n",
       "      <td>10</td>\n",
       "      <td>Manipulator 4</td>\n",
       "      <td>10.0</td>\n",
       "      <td>0.999962</td>\n",
       "      <td>Either repair or find a way to run the line us...</td>\n",
       "      <td>Line Stoppage</td>\n",
       "      <td>NaN</td>\n",
       "      <td>NaN</td>\n",
       "      <td>NaN</td>\n",
       "      <td>NaN</td>\n",
       "      <td>Moderately rarely</td>\n",
       "      <td>(1,5,15)</td>\n",
       "      <td>1.0</td>\n",
       "      <td>5.0</td>\n",
       "      <td>15.0</td>\n",
       "      <td>112</td>\n",
       "      <td>112</td>\n",
       "      <td>13.44</td>\n",
       "    </tr>\n",
       "  </tbody>\n",
       "</table>\n",
       "</div>"
      ],
      "text/plain": [
       "     Part  Equipment Station                           Name  \\\n",
       "0  Trim 1                  1                          ManOp   \n",
       "1     NaN                  2                  Manipulator 1   \n",
       "2     NaN                  3                  Manipulator 2   \n",
       "3     NaN                  4                          ManOp   \n",
       "4     NaN                  5                          ManOp   \n",
       "5     NaN                  6  Direct Glazing Glass Assembly   \n",
       "6  Trim 2                  7                          ManOp   \n",
       "7     NaN                  8                  Manipulator 3   \n",
       "8     NaN                  9                          ManOp   \n",
       "9     NaN                 10                  Manipulator 4   \n",
       "\n",
       "   Annual Frequency of Failure  Probablity of Failure  \\\n",
       "0                          NaN                    NaN   \n",
       "1                         10.0               0.999962   \n",
       "2                         10.0               0.999962   \n",
       "3                          NaN                    NaN   \n",
       "4                          NaN                    NaN   \n",
       "5                          5.0               0.999981   \n",
       "6                          NaN                    NaN   \n",
       "7                         10.0               0.999962   \n",
       "8                          NaN                    NaN   \n",
       "9                         10.0               0.999962   \n",
       "\n",
       "                    How are we dealing with failure? Critical / Non -Critical  \\\n",
       "0                                                NaN            Line Stoppage   \n",
       "1  Either repair or find a way to run the line us...            Line Stoppage   \n",
       "2  Either repair or find a way to run the line us...            Line Stoppage   \n",
       "3                                                NaN            Line Stoppage   \n",
       "4                                                NaN            Line Stoppage   \n",
       "5  Repair / Replace spare parts, manual not possible            Line Stoppage   \n",
       "6                                                NaN                 Reworked   \n",
       "7  Either repair or find a way to run the line us...            Line Stoppage   \n",
       "8                                                NaN            Line Stoppage   \n",
       "9  Either repair or find a way to run the line us...            Line Stoppage   \n",
       "\n",
       "  Triangular rework  Min_Rew_Triang  Mode_Rew_Triang  Max_Rew_Triang  \\\n",
       "0               NaN             NaN              NaN             NaN   \n",
       "1               NaN             NaN              NaN             NaN   \n",
       "2               NaN             NaN              NaN             NaN   \n",
       "3               NaN             NaN              NaN             NaN   \n",
       "4               NaN             NaN              NaN             NaN   \n",
       "5               NaN             NaN              NaN             NaN   \n",
       "6           (1,2,3)             1.0              2.0             3.0   \n",
       "7               NaN             NaN              NaN             NaN   \n",
       "8               NaN             NaN              NaN             NaN   \n",
       "9               NaN             NaN              NaN             NaN   \n",
       "\n",
       "              Failure frequency Repair Triangular  Min_Rep_Triang  \\\n",
       "0                           NaN               NaN             NaN   \n",
       "1             Moderately rarely          (1,5,15)             1.0   \n",
       "2             Moderately rarely          (1,5,15)             1.0   \n",
       "3                           NaN               NaN             NaN   \n",
       "4                           NaN               NaN             NaN   \n",
       "5  Rarely fails and has a spare          (2,7,30)             2.0   \n",
       "6                           NaN               NaN             NaN   \n",
       "7             Moderately rarely          (1,5,15)             1.0   \n",
       "8                           NaN               NaN             NaN   \n",
       "9             Moderately rarely          (1,5,15)             1.0   \n",
       "\n",
       "   Mode_Rep_Triang  Max_Rep_Triang  Num of parts per batch  Mean time arrival  \\\n",
       "0              NaN             NaN                     240                240   \n",
       "1              5.0            15.0                     160                160   \n",
       "2              5.0            15.0                      80                 80   \n",
       "3              NaN             NaN                     320                320   \n",
       "4              NaN             NaN                     192                192   \n",
       "5              7.0            30.0                     192                192   \n",
       "6              NaN             NaN                     240                240   \n",
       "7              5.0            15.0                      96                 96   \n",
       "8              NaN             NaN                     320                320   \n",
       "9              5.0            15.0                     112                112   \n",
       "\n",
       "   Safety stock  \n",
       "0         28.80  \n",
       "1         19.20  \n",
       "2          9.60  \n",
       "3         38.40  \n",
       "4         23.04  \n",
       "5         23.04  \n",
       "6         28.80  \n",
       "7         11.52  \n",
       "8         38.40  \n",
       "9         13.44  "
      ]
     },
     "execution_count": 4,
     "metadata": {},
     "output_type": "execute_result"
    }
   ],
   "source": [
    "df.head(10)"
   ]
  },
  {
   "cell_type": "markdown",
   "id": "fa49fb05",
   "metadata": {},
   "source": [
    "- **<span style=\"color:blue\"> Data vectors required for the function </span>**"
   ]
  },
  {
   "cell_type": "code",
   "execution_count": 5,
   "id": "7e8e9c5f",
   "metadata": {},
   "outputs": [],
   "source": [
    "#Probability of Failure for each equipment\n",
    "prob_of_failure = df[\"Probablity of Failure\"]\n",
    "\n",
    "#Which stations have equipment\n",
    "stations_with_equip = df[\"Name\"] != 'ManOp'\n",
    "\n",
    "#Which stations are critical? Ctritical stations are the ones where \n",
    "#the processing cannot be done once the vehicle has passed the station\n",
    "stations_non_critical = df[\"Critical / Non -Critical\"] != \"Line Stoppage\""
   ]
  },
  {
   "cell_type": "markdown",
   "id": "2dfbe883",
   "metadata": {},
   "source": [
    "**<span style=\"color:blue\"> Function Definitions </span>**\n",
    "\n",
    "| **Function** | **Inputs** | **Returns** |\n",
    "| --- | --- | --- |\n",
    "| process_vector | n_reps = nuber of simulated cars | process_vector_n_reps = process times at all stations for all reps  |\n",
    "| decision | probability = probability of equipment not failing | Random binary variable indicating state of equipment with certain probability |\n",
    "| equip_prop | station_with_equip = binary vector for .........."
   ]
  },
  {
   "cell_type": "code",
   "execution_count": 6,
   "id": "e5ffe6f6",
   "metadata": {},
   "outputs": [],
   "source": [
    "#Function definitions\n",
    "\n",
    "#-----------------------------------------------------------------------------\n",
    "#Define process vector\n",
    "def process_vector_f(n_reps):\n",
    "    process_vector_n_reps = np.ndarray((n_reps, 40))\n",
    "    for j in range(n_reps):    \n",
    "        for i in range(40):\n",
    "            process_time = np.random.normal(loc = 0.85, scale = 0.09)\n",
    "            process_vector_n_reps[j][i] = process_time\n",
    "    return process_vector_n_reps\n",
    "\n",
    "#-----------------------------------------------------------------------------\n",
    "#function for state of the equipment, used in the next function\n",
    "def decision_f(probability):\n",
    "    return random.random() < probability\n",
    "\n",
    "#-----------------------------------------------------------------------------\n",
    "#Function for equipment properties changing with number of cars and for each car\n",
    "def equip_prop_f(station_with_equip, n_reps):\n",
    "    station_state = np.ones((n_reps, 40))\n",
    "    repair_time = np.zeros((n_reps, 40))\n",
    "    for rep in range(n_reps):    \n",
    "        for i in range(len(station_with_equip)):\n",
    "            if (station_with_equip[i] == True):\n",
    "                station_state[rep][i] = decision_f(prob_of_failure[i]) \n",
    "    for rep in range(n_reps):     \n",
    "        for i in range(len(station_with_equip)):\n",
    "            if (station_state[rep][i] == 0):\n",
    "                repair_time[rep][i] = np.round(np.random.triangular(df['Min_Rep_Triang'][i], df['Mode_Rep_Triang'][i], df['Max_Rep_Triang'][i]),4)\n",
    "    return station_state, repair_time\n",
    "\n",
    "#-----------------------------------------------------------------------------\n",
    "#rework function that returns the time taken for \n",
    "def rework_f(n_reps,rework_tally):\n",
    "    rework_time = np.zeros((n_reps, 40))\n",
    "    for rep in range(np.shape(rework_tally)[0]):\n",
    "        for i in range(np.shape(rework_tally)[1]):\n",
    "            if (rework_tally[rep][i] == 1):\n",
    "                rework_time[rep][i] = np.round(np.random.triangular(df['Min_Rew_Triang'][i], df['Mode_Rew_Triang'][i], df['Max_Rew_Triang'][i]),4)\n",
    "    return rework_time\n",
    "\n",
    "#-----------------------------------------------------------------------------\n",
    "#time in system but it is only for time in assembly line\n",
    "def vehicle_prop_f(n_reps, time_stamps):\n",
    "    i = 0\n",
    "    station = 0\n",
    "    time_on_conveyor = np.zeros(n_reps)\n",
    "    while i < n_reps:\n",
    "        time_on_conveyor[i] = time_stamps[station + 40] - time_stamps[station]\n",
    "        station = station + 1\n",
    "        i = i + 1\n",
    "    return time_on_conveyor\n",
    "\n",
    "#-----------------------------------------------------------------------------\n",
    "#total time when vehicle is out of the conveyor\n",
    "def time_in_system_f(n_reps, rework_time, time_on_conveyor):\n",
    "    individual_rework_time = np.zeros(n_reps)\n",
    "    for rep in range(n_reps):\n",
    "        for station in range(40):\n",
    "            individual_rework_time[rep] = individual_rework_time[rep] + rework_time[rep][station] \n",
    "    time_in_system = time_on_conveyor + individual_rework_time\n",
    "    return time_in_system\n",
    "\n",
    "#-----------------------------------------------------------------------------\n",
    "#metrics\n",
    "def metrics_f(n_reps, time_stamps, time_in_station, rework_tally, rework_time, process_vector_n_reps, cars):\n",
    "    n_reps = n_reps - 40\n",
    "    time_on_conveyor = vehicle_prop_f(n_reps, time_stamps)\n",
    "    time_in_system = time_in_system_f(n_reps, rework_time, time_on_conveyor)\n",
    "    throughput = cars/(time_stamps[cars]) #per minute throughput\n",
    "    temp1 = np.where(process_vector_n_reps > 1, 1, process_vector_n_reps)\n",
    "    temp2 = np.sum(temp1[0:cars], axis = 0)/cars\n",
    "    utilization_per_station = round(np.mean(temp2),4)\n",
    "    return time_on_conveyor, time_in_system, throughput, utilization_per_station\n",
    "\n",
    "#-----------------------------------------------------------------------------\n",
    "#Rework time per car\n",
    "def rework_per_car_f(rework_time, n_reps):\n",
    "    n_reps = n_reps - 40\n",
    "    rework_per_car = np.zeros(n_reps)\n",
    "    for i in range(n_reps):\n",
    "        temp = np.trace(rework_time[i:i + 40])\n",
    "        rework_per_car[i] = temp\n",
    "    return rework_per_car\n",
    "\n",
    "#-----------------------------------------------------------------------------\n",
    "#Rework WIP: Total WIP will be 40 + rework WIP\n",
    "#Rework is done in a large area under a shade and we can assume infinite number of workers\n",
    "def rework_WIP_f(rework_per_car, time_stamps):\n",
    "    a = time_stamps[40:]\n",
    "    WIP_rework = np.zeros(len(rework_per_car))\n",
    "    for i in range(len(a)):\n",
    "        for j in range(i, len(rework_per_car)):\n",
    "            if (rework_per_car[i] > a[j] - a[i]):\n",
    "                WIP_rework[j] = WIP_rework[j] + 1\n",
    "    return WIP_rework"
   ]
  },
  {
   "cell_type": "code",
   "execution_count": 7,
   "id": "3ef00857",
   "metadata": {},
   "outputs": [],
   "source": [
    "#definition of simulation\n",
    "\n",
    "def simulate(runlength):\n",
    "    n_reps = runlength + 40 #return values will have 40 more rows for \"start to finish\" data for each vehicle\n",
    "    T = 0\n",
    "    time_stamps = np.zeros(n_reps)\n",
    "    rework_tally = np.zeros((n_reps,40)) #list of all stations which are remaining\n",
    "    time_in_station = np.ones((n_reps,40)) #Bottleneck time\n",
    "    station_state, repair_time = equip_prop_f(stations_with_equip, n_reps)\n",
    "    process_vector_n_reps = process_vector_f(n_reps)\n",
    "    for rep in range(n_reps): \n",
    "        time_stamps[rep] = T\n",
    "        for station in range(40):\n",
    "            if (stations_non_critical[station] == True and process_vector_n_reps[rep][station] >= 1):\n",
    "                time_in_station[rep][station] = 1\n",
    "                rework_tally[rep][station] = 1 \n",
    "            elif (stations_non_critical[station] == True and process_vector_n_reps[rep][station] < 1):\n",
    "                time_in_station[rep][station] = 1\n",
    "            elif (stations_non_critical[station] == False):\n",
    "                if (station_state[rep][station] == 0):\n",
    "                    time_in_station[rep][station] = max(process_vector_n_reps[rep][station],1) + repair_time[rep][station]\n",
    "                elif (station_state[rep][station] == 1):\n",
    "                    time_in_station[rep][station] = max(process_vector_n_reps[rep][station],1)       \n",
    "        temp = np.max(time_in_station[rep])\n",
    "        if temp < 1:\n",
    "            T = T + 1\n",
    "        elif temp >= 1:\n",
    "            T = T + temp\n",
    "        if time_stamps[rep] < runlength:\n",
    "            cars = rep + 1\n",
    "    rework_time = rework_f(n_reps, rework_tally)\n",
    "    time_on_conveyor, time_in_system, throughput, utilization_per_station = metrics_f(n_reps, time_stamps, time_in_station, rework_tally, rework_time, process_vector_n_reps, cars)\n",
    "    rework_per_car = rework_per_car_f(rework_time, n_reps)\n",
    "    WIP_rework = rework_WIP_f(rework_per_car, time_stamps)\n",
    "    efficiency = round(n_reps/time_stamps[-1],4)\n",
    "    WIP_in_system = WIP_rework + 40\n",
    "    return station_state[0:cars], repair_time[0:cars], time_stamps[0:cars+40], time_in_station[0:cars], rework_tally[0:cars], rework_time[0:cars], process_vector_n_reps[0:cars], time_on_conveyor[0:cars], time_in_system[0:cars], throughput, utilization_per_station, rework_per_car[0:cars], WIP_rework[0:cars], efficiency, WIP_in_system[0:cars], cars\n",
    "\n",
    "\n"
   ]
  },
  {
   "cell_type": "code",
   "execution_count": 84,
   "id": "09049273",
   "metadata": {},
   "outputs": [
    {
     "data": {
      "text/plain": [
       "array([ 0.    ,  2.9416,  3.3849,  4.0702,  4.0985,  4.1388,  4.1928,\n",
       "        4.872 ,  5.6045,  5.6311,  5.7002,  5.8782,  5.8909,  5.9646,\n",
       "        6.0932,  6.1973,  6.2488,  6.4547,  6.9732,  7.5375,  7.6141,\n",
       "        8.0564,  8.1116,  8.1559,  8.1885,  8.7858,  8.798 ,  9.2876,\n",
       "        9.4535,  9.7329, 10.6102, 10.7331, 11.248 , 12.4248, 12.5819,\n",
       "       13.1347, 13.3091, 13.4278])"
      ]
     },
     "execution_count": 84,
     "metadata": {},
     "output_type": "execute_result"
    }
   ],
   "source": [
    "np.unique(b)"
   ]
  },
  {
   "cell_type": "code",
   "execution_count": 100,
   "id": "d2008f68",
   "metadata": {},
   "outputs": [],
   "source": [
    "a,b,c,d,e,f,g,h,i,j,k,l,m,n,o,p  = simulate(960)"
   ]
  },
  {
   "cell_type": "code",
   "execution_count": 65,
   "id": "9d8fd8c1",
   "metadata": {},
   "outputs": [
    {
     "data": {
      "text/plain": [
       "12726"
      ]
     },
     "execution_count": 65,
     "metadata": {},
     "output_type": "execute_result"
    }
   ],
   "source": [
    "len(d)"
   ]
  },
  {
   "cell_type": "code",
   "execution_count": 39,
   "id": "58637f90",
   "metadata": {},
   "outputs": [],
   "source": [
    "z=c"
   ]
  },
  {
   "cell_type": "code",
   "execution_count": 40,
   "id": "83c7991d",
   "metadata": {
    "scrolled": false
   },
   "outputs": [
    {
     "data": {
      "text/plain": [
       "[<matplotlib.lines.Line2D at 0x7f8f40243310>]"
      ]
     },
     "execution_count": 40,
     "metadata": {},
     "output_type": "execute_result"
    },
    {
     "data": {
      "image/png": "[encoded data removed]",
      "text/plain": [
       "<Figure size 432x288 with 1 Axes>"
      ]
     },
     "metadata": {
      "needs_background": "light"
     },
     "output_type": "display_data"
    }
   ],
   "source": [
    "plt.plot(z,o)"
   ]
  },
  {
   "cell_type": "code",
   "execution_count": 41,
   "id": "66fac08c",
   "metadata": {},
   "outputs": [
    {
     "data": {
      "text/plain": [
       "[<matplotlib.lines.Line2D at 0x7f8f40413d00>]"
      ]
     },
     "execution_count": 41,
     "metadata": {},
     "output_type": "execute_result"
    },
    {
     "data": {
      "image/png": "[encoded data removed]",
      "text/plain": [
       "<Figure size 432x288 with 1 Axes>"
      ]
     },
     "metadata": {
      "needs_background": "light"
     },
     "output_type": "display_data"
    }
   ],
   "source": [
    "df=pd.DataFrame(o)\n",
    "avg_data = df.expanding().mean()\n",
    "arr = np.array(avg_data)\n",
    "plt.plot(z,arr)"
   ]
  },
  {
   "cell_type": "code",
   "execution_count": 42,
   "id": "eeb9df93",
   "metadata": {
    "scrolled": false
   },
   "outputs": [
    {
     "data": {
      "text/plain": [
       "1.0446254072092052"
      ]
     },
     "execution_count": 42,
     "metadata": {},
     "output_type": "execute_result"
    }
   ],
   "source": [
    "1000/c[-1]"
   ]
  },
  {
   "cell_type": "code",
   "execution_count": 51,
   "id": "ce15a21b",
   "metadata": {},
   "outputs": [
    {
     "data": {
      "text/plain": [
       "array([1., 1., 1., 1., 1., 1., 1., 1., 1., 1., 1., 1., 1., 1., 0., 1., 1.,\n",
       "       1., 1., 1., 1., 1., 1., 1., 1., 1., 1., 1., 1., 1., 1., 1., 1., 1.,\n",
       "       1., 1., 1., 1., 1., 1.])"
      ]
     },
     "execution_count": 51,
     "metadata": {},
     "output_type": "execute_result"
    }
   ],
   "source": [
    "a[3]"
   ]
  },
  {
   "cell_type": "code",
   "execution_count": 70,
   "id": "a96dd14b",
   "metadata": {},
   "outputs": [],
   "source": [
    "process_vector_n_reps = np.where(process_vector_n_reps > 1, 1, process_vector_n_reps)"
   ]
  },
  {
   "cell_type": "code",
   "execution_count": 71,
   "id": "d8f53a9c",
   "metadata": {},
   "outputs": [
    {
     "data": {
      "text/plain": [
       "array([[1.        , 0.8725243 , 0.84673363, ..., 1.        , 0.84640588,\n",
       "        0.9118085 ],\n",
       "       [1.        , 0.84784122, 1.        , ..., 1.        , 0.95333707,\n",
       "        0.92151035],\n",
       "       [0.84327125, 0.9178935 , 1.        , ..., 0.93611232, 0.95529705,\n",
       "        0.94671902],\n",
       "       ...,\n",
       "       [0.87045298, 0.92609541, 1.        , ..., 0.85959417, 0.86407022,\n",
       "        0.76622329],\n",
       "       [0.92393656, 0.93190374, 0.91144597, ..., 0.79914242, 1.        ,\n",
       "        0.83475473],\n",
       "       [1.        , 0.9134014 , 1.        , ..., 0.93067773, 1.        ,\n",
       "        0.85064817]])"
      ]
     },
     "execution_count": 71,
     "metadata": {},
     "output_type": "execute_result"
    }
   ],
   "source": [
    "process_vector_n_reps"
   ]
  },
  {
   "cell_type": "code",
   "execution_count": 69,
   "id": "40ec9119",
   "metadata": {
    "scrolled": true
   },
   "outputs": [
    {
     "data": {
      "text/plain": [
       "array([0.92745105, 0.93727047, 0.93855606, 0.9311499 , 0.93605609,\n",
       "       0.93941469, 0.93146687, 0.9291242 , 0.92165851, 0.92451082,\n",
       "       0.9242518 , 0.94165479, 0.92170962, 0.91755421, 0.92424257,\n",
       "       0.92941714, 0.92939509, 0.93584805, 0.93115892, 0.92335258,\n",
       "       0.92399386, 0.92090922, 0.91496724, 0.93692268, 0.93135551,\n",
       "       0.92786667, 0.9227964 , 0.9328911 , 0.92061511, 0.93109178,\n",
       "       0.92975487, 0.94151473, 0.9288327 , 0.9303896 , 0.919836  ,\n",
       "       0.92382673, 0.93035767, 0.9311502 , 0.91802517, 0.9187978 ])"
      ]
     },
     "execution_count": 69,
     "metadata": {},
     "output_type": "execute_result"
    }
   ],
   "source": [
    "utilization_per_station"
   ]
  },
  {
   "cell_type": "code",
   "execution_count": 63,
   "id": "2d3be27b",
   "metadata": {},
   "outputs": [
    {
     "data": {
      "text/plain": [
       "array([1.01239502, 1.00797832, 1.0098158 , 1.00954355, 1.01208563,\n",
       "       1.01242458, 1.        , 1.05067828, 1.01360662, 1.01517658,\n",
       "       1.01339002, 1.01046   , 1.        , 1.00924573, 1.00881333,\n",
       "       1.01318122, 1.00820667, 1.00984282, 1.01102946, 1.        ,\n",
       "       1.01122768, 1.0128444 , 1.00865687, 1.01359914, 1.01516287,\n",
       "       1.00941384, 1.01328044, 1.        , 1.01289275, 1.01400873,\n",
       "       1.        , 1.01313837, 1.        , 1.01334747, 1.        ,\n",
       "       1.01177612, 1.00906936, 1.00688617, 1.        , 1.        ])"
      ]
     },
     "execution_count": 63,
     "metadata": {},
     "output_type": "execute_result"
    }
   ],
   "source": [
    "utilization_per_station"
   ]
  },
  {
   "cell_type": "code",
   "execution_count": 14,
   "id": "cd1d65e8",
   "metadata": {},
   "outputs": [],
   "source": [
    "#time_on_conveyor, time_in_system, throughput, utilization_per_station, throughput, utilization_per_station = metrics(100, time_stamps, time_in_station, rework_tally, rework_time, process_vector_n_reps)"
   ]
  },
  {
   "cell_type": "code",
   "execution_count": 15,
   "id": "a72f79c6",
   "metadata": {},
   "outputs": [],
   "source": [
    "#time_on_conveyor"
   ]
  },
  {
   "cell_type": "code",
   "execution_count": 56,
   "id": "a2d004cb",
   "metadata": {},
   "outputs": [
    {
     "data": {
      "text/plain": [
       "array([55.86299987, 48.17671861, 55.23088401, 52.1811131 , 49.81185998,\n",
       "       54.05762784, 46.50825638, 50.28030911, 59.83942799, 47.28734663,\n",
       "       53.45535537, 47.52431245, 54.44063411, 55.20094008, 44.26635183,\n",
       "       44.38359411, 50.0961049 , 46.0024281 , 55.81495947, 52.18138704,\n",
       "       46.41065694, 51.34801126, 50.96433497, 50.59640569, 49.09005631,\n",
       "       49.49876574, 51.00009066, 52.21962426, 54.47073776, 59.95540114,\n",
       "       48.73744628, 54.15371531, 46.70836453, 50.84568528, 54.78223957,\n",
       "       44.93551668, 48.30426049, 52.43034136, 48.8632597 , 44.88386121,\n",
       "       47.5895558 , 52.79847462, 47.80163232, 59.69489697, 59.73435399,\n",
       "       47.85383465, 53.93564964, 51.0029653 , 50.58033589, 47.04535461,\n",
       "       48.52257949, 51.23514904, 47.5044354 , 52.72615109, 45.06473357,\n",
       "       50.88273937, 51.08819784, 52.28789888, 55.02603966, 48.5877812 ])"
      ]
     },
     "execution_count": 56,
     "metadata": {},
     "output_type": "execute_result"
    }
   ],
   "source": [
    "time_in_system"
   ]
  },
  {
   "cell_type": "code",
   "execution_count": 57,
   "id": "b4b59c9f",
   "metadata": {},
   "outputs": [
    {
     "data": {
      "text/plain": [
       "0.5363267504511178"
      ]
     },
     "execution_count": 57,
     "metadata": {},
     "output_type": "execute_result"
    }
   ],
   "source": [
    "throughput"
   ]
  },
  {
   "cell_type": "code",
   "execution_count": 60,
   "id": "f8b0225d",
   "metadata": {},
   "outputs": [
    {
     "data": {
      "text/plain": [
       "256.0"
      ]
     },
     "execution_count": 60,
     "metadata": {},
     "output_type": "execute_result"
    }
   ],
   "source": [
    "#station state\n",
    "np.sum(np.shape(a)[1] - np.sum(a,axis=1))#number of times line stopped due to equipment failure out of cars*40 times"
   ]
  },
  {
   "cell_type": "code",
   "execution_count": 92,
   "id": "2df59ff0",
   "metadata": {
    "scrolled": true
   },
   "outputs": [],
   "source": [
    "#repair time\n",
    "repair_time = np.zeros(p)\n",
    "for i in range(p):\n",
    "    temp = np.trace(b[i:i + 40])\n",
    "    repair_time[i] = temp"
   ]
  },
  {
   "cell_type": "code",
   "execution_count": 98,
   "id": "f5a8caea",
   "metadata": {
    "scrolled": false
   },
   "outputs": [
    {
     "data": {
      "text/plain": [
       "1756.5858"
      ]
     },
     "execution_count": 98,
     "metadata": {},
     "output_type": "execute_result"
    }
   ],
   "source": [
    "len(np.unique(repair_time))\n",
    "np.sum(repair_time)"
   ]
  },
  {
   "cell_type": "code",
   "execution_count": 97,
   "id": "fe4cfa27",
   "metadata": {
    "scrolled": false
   },
   "outputs": [
    {
     "data": {
      "text/plain": [
       "245"
      ]
     },
     "execution_count": 97,
     "metadata": {},
     "output_type": "execute_result"
    }
   ],
   "source": [
    "len(np.unique(b))"
   ]
  },
  {
   "cell_type": "code",
   "execution_count": 74,
   "id": "5be0e031",
   "metadata": {
    "scrolled": true
   },
   "outputs": [
    {
     "data": {
      "text/plain": [
       "array([0., 0., 0., ..., 0., 0., 0.])"
      ]
     },
     "execution_count": 74,
     "metadata": {},
     "output_type": "execute_result"
    }
   ],
   "source": [
    "repair_time"
   ]
  },
  {
   "cell_type": "code",
   "execution_count": 99,
   "id": "dd36e80e",
   "metadata": {},
   "outputs": [
    {
     "data": {
      "image/png": "[encoded data removed]",
      "text/plain": [
       "<Figure size 432x288 with 1 Axes>"
      ]
     },
     "metadata": {
      "needs_background": "light"
     },
     "output_type": "display_data"
    }
   ],
   "source": [
    "#time on conveyor\n",
    "fig= plt.figure()\n",
    "ax= plt.axes()\n",
    "x= np.linspace(0,p,p)\n",
    "ax.plot(x,h)\n",
    "plt.xlabel('Car number')\n",
    "plt.ylabel('Time spent on coveyor in mins')\n",
    "plt.title('Time spent by Car on Conveyor belt')\n",
    "plt.show()"
   ]
  },
  {
   "cell_type": "code",
   "execution_count": 112,
   "id": "65a9a63c",
   "metadata": {
    "scrolled": true
   },
   "outputs": [],
   "source": [
    "def sim_rep(n_days):\n",
    "    arrss=[]\n",
    "    arrrt=[]\n",
    "    arrts=[]\n",
    "    arrtis=[]\n",
    "    arrrtally=[]\n",
    "    arr_rework=[]\n",
    "    arr_pv=[]\n",
    "    arr_toc=[]\n",
    "    arr_time_in_sys=[]\n",
    "    arr_thr=[]\n",
    "    arr_uti=[]\n",
    "    arr_rework_per_car=[]\n",
    "    arr_Wr=[]\n",
    "    arr_eff=[]\n",
    "    arrWIP=[]\n",
    "    arrcar=[]\n",
    "    for i in range(n_days):\n",
    "        station_state, repair_time, time_stamps, time_in_station, rework_tally, rework_time, process_vector_n_reps, time_on_conveyor, time_in_system, throughput, utilization_per_station, rework_per_car, WIP_rework, efficiency, WIP_in_system, cars= simulate(960)\n",
    "        arrss.append(station_state)\n",
    "        arrrt.append(repair_time)\n",
    "        arrts.append(time_stamps)\n",
    "        arrtis.append(time_in_station)\n",
    "        arrrtally.append(rework_tally)\n",
    "        arr_rework.append(rework_time)\n",
    "        arr_pv.append(process_vector_n_reps)\n",
    "        arr_toc.append(time_on_conveyor)\n",
    "        arr_time_in_sys.append(time_in_system)\n",
    "        arr_thr.append(throughput)\n",
    "        arr_uti.append(utilization_per_station)\n",
    "        arr_rework.append(rework_per_car)\n",
    "        arr_Wr.append(WIP_rework)\n",
    "        arr_eff.append(efficiency)\n",
    "        arrWIP.append(WIP_in_system)\n",
    "        arrcar.append(cars)\n",
    "    return arrss, arrrt, arrts, arrtis, arrrtally, arr_rework, arr_pv, arr_toc, arr_time_in_sys, arr_thr, arr_uti, arr_rework, arr_Wr, arr_eff,arrWIP, arrcar\n",
    "\n",
    "\n",
    "     "
   ]
  },
  {
   "cell_type": "code",
   "execution_count": 113,
   "id": "5883ff1a",
   "metadata": {},
   "outputs": [],
   "source": [
    "station_state, repair_time, time_stamps, time_in_station, rework_tally, rework_time, process_vector_n_reps, time_on_conveyor, time_in_system, throughput, utilization_per_station, rework_per_car, WIP_rework, efficiency, WIP_in_system,cars = sim_rep(5)"
   ]
  },
  {
   "cell_type": "code",
   "execution_count": 16,
   "id": "60e4e0da",
   "metadata": {},
   "outputs": [],
   "source": [
    "# for j in range(n_days):\n",
    "#     timestamp=arrts[0:-40]\n",
    "# print(timestamp)\n",
    "# np.shape(timestamp)"
   ]
  },
  {
   "cell_type": "code",
   "execution_count": 143,
   "id": "cf0911ad",
   "metadata": {},
   "outputs": [
    {
     "name": "stdout",
     "output_type": "stream",
     "text": [
      "[47.27100924 49.75961952 48.99844184 44.99911119 45.41086445 44.48431252\n",
      " 47.57120077 46.86102375 49.0464179  47.46333597 47.04709471 48.18618963\n",
      " 49.0457068  49.97782747 46.76604474 48.224177   47.49469516 45.65455078\n",
      " 46.35641324 48.83527649 49.41262241 48.26257019 47.08595661 45.91993071\n",
      " 47.48376038 47.6807264  45.62541185 47.36334517 51.62015492 47.98415504\n",
      " 45.05592309 46.4262473  48.89723452 47.2595642  47.17234977 43.75827555\n",
      " 45.93049234 49.95589803 47.18913897 47.44969429 47.40130138 48.39651891\n",
      " 47.74981634 48.37711891 46.51204551 46.65413134 46.74647677 46.68584491\n",
      " 46.98416828 47.59004942 48.14610766 46.79442613 46.82652276 47.42634065\n",
      " 47.05885132 47.04303303 48.65289991 48.7230575  45.63795642 47.79543756\n",
      " 49.50380143 48.06022754 47.28400131 46.89641276 45.89486571 46.99320172\n",
      " 46.69532273 47.24330591 49.08277025 46.85380124]\n",
      "70\n"
     ]
    }
   ],
   "source": [
    "toc_avg = np.mean(arr_toc, axis =1)\n",
    "print(toc_avg)\n",
    "print(len(toc_avg))"
   ]
  },
  {
   "cell_type": "code",
   "execution_count": 154,
   "id": "f529e468",
   "metadata": {},
   "outputs": [
    {
     "data": {
      "image/png": "[encoded data removed]",
      "text/plain": [
       "<Figure size 432x288 with 1 Axes>"
      ]
     },
     "metadata": {
      "needs_background": "light"
     },
     "output_type": "display_data"
    },
    {
     "name": "stdout",
     "output_type": "stream",
     "text": [
      "95%CI for Time on conveyor = [47.091,47.729] minutes\n"
     ]
    }
   ],
   "source": [
    "fig= plt.figure()\n",
    "ax= plt.axes()\n",
    "x= np.linspace(0,70,70)\n",
    "ax.plot(x,toc_avg)\n",
    "plt.xlabel('#replications')\n",
    "plt.ylabel('Time spent on coveyor in mins')\n",
    "plt.title('Time spent by Car on Conveyor belt')\n",
    "plt.ylim(ymax=55, ymin=40)\n",
    "plt.show()\n",
    "toc_CI = ss.norm.interval(alpha = 0.95, loc= np.mean(toc_avg), scale = np.std(toc_avg)/math.sqrt(len(toc_avg)))\n",
    "print(f\"95%CI for Time on conveyor = [{round(toc_CI[0],3)},{round(toc_CI[1],3)}] minutes\") "
   ]
  },
  {
   "cell_type": "code",
   "execution_count": 149,
   "id": "c06aa9e7",
   "metadata": {},
   "outputs": [
    {
     "name": "stdout",
     "output_type": "stream",
     "text": [
      "[ 0.  0.  0.  0.  0.  0. 46.  0.  0.  0.  0.  0. 46.  0.  0.  0.  0.  0.\n",
      "  0. 46.  0.  0.  0.  0.  0.  0.  0. 49.  0.  0. 51.  0. 47.  0. 40.  0.\n",
      "  0.  0. 60. 47.]\n"
     ]
    }
   ],
   "source": [
    "rework_tally_per_station = np.sum(rework_tally, axis= 0)\n",
    "print(rework_tally_per_station)\n"
   ]
  },
  {
   "cell_type": "code",
   "execution_count": 152,
   "id": "bc42fac9",
   "metadata": {},
   "outputs": [
    {
     "data": {
      "text/plain": [
       "(array([31.,  0.,  0.,  0.,  0.,  0.,  1.,  5.,  2.,  1.]),\n",
       " array([ 0.,  6., 12., 18., 24., 30., 36., 42., 48., 54., 60.]),\n",
       " <BarContainer object of 10 artists>)"
      ]
     },
     "execution_count": 152,
     "metadata": {},
     "output_type": "execute_result"
    },
    {
     "data": {
      "image/png": "[encoded data removed]",
      "text/plain": [
       "<Figure size 432x288 with 1 Axes>"
      ]
     },
     "metadata": {
      "needs_background": "light"
     },
     "output_type": "display_data"
    }
   ],
   "source": [
    "fig= plt.figure()\n",
    "ax= plt.axes()\n",
    "plt.hist(rework_tally_per_station)"
   ]
  },
  {
   "cell_type": "code",
   "execution_count": 156,
   "id": "b77816bb",
   "metadata": {},
   "outputs": [
    {
     "name": "stdout",
     "output_type": "stream",
     "text": [
      "[48.50233174 51.11080192 50.27067434 46.32635054 46.73810205 45.79860035\n",
      " 48.83396142 48.1502732  50.34319572 48.78301293 48.33535188 49.44357115\n",
      " 50.43262267 51.27680063 48.10844517 49.41754819 48.87238875 46.914726\n",
      " 47.5541765  50.15587367 50.69544817 49.54316487 48.38462748 47.22674821\n",
      " 48.71963919 48.94716325 46.94030739 48.73725365 52.97899416 49.37804559\n",
      " 46.37815309 47.74568904 50.21238474 48.4878492  48.44798977 45.04974088\n",
      " 47.21241897 51.33926444 48.51530603 48.73899907 48.74917431 49.51384098\n",
      " 49.03883036 49.75771837 47.79076442 47.98760395 48.17176644 47.93738871\n",
      " 48.17947415 48.94927496 49.4803294  48.01105711 48.08104439 48.74875923\n",
      " 48.42729969 48.31214651 49.93082654 50.14320043 46.91783066 49.14896289\n",
      " 50.75742947 49.35793982 48.50130599 48.27773939 47.22967147 48.1901865\n",
      " 47.91985132 48.56818993 50.31657438 48.18885461]\n",
      "70\n"
     ]
    }
   ],
   "source": [
    "#Time in system\n",
    "#print(arr_time_in_sys)\n",
    "tis_avg = np.mean(arr_time_in_sys, axis =1)\n",
    "print(tis_avg)\n",
    "print(len(tis_avg))"
   ]
  },
  {
   "cell_type": "code",
   "execution_count": 158,
   "id": "93e973e5",
   "metadata": {},
   "outputs": [
    {
     "data": {
      "image/png": "[encoded data removed]",
      "text/plain": [
       "<Figure size 432x288 with 1 Axes>"
      ]
     },
     "metadata": {
      "needs_background": "light"
     },
     "output_type": "display_data"
    },
    {
     "name": "stdout",
     "output_type": "stream",
     "text": [
      "95%CI for Time in system = [48.388,49.03] minutes\n"
     ]
    }
   ],
   "source": [
    "fig= plt.figure()\n",
    "ax= plt.axes()\n",
    "x= np.linspace(0,70,70)\n",
    "ax.plot(x,tis_avg)\n",
    "plt.xlabel('#replications')\n",
    "plt.ylabel('Time spent in systems in mins')\n",
    "plt.title('Time spent by Car on System')\n",
    "plt.ylim(ymax=55, ymin=40)\n",
    "plt.show()\n",
    "tis_CI = ss.norm.interval(alpha = 0.95, loc= np.mean(tis_avg), scale = np.std(tis_avg)/math.sqrt(len(tis_avg)))\n",
    "print(f\"95%CI for Time in system = [{round(tis_CI[0],3)},{round(tis_CI[1],3)}] minutes\") "
   ]
  },
  {
   "cell_type": "code",
   "execution_count": 160,
   "id": "b2655ed9",
   "metadata": {},
   "outputs": [
    {
     "name": "stdout",
     "output_type": "stream",
     "text": [
      "[0.8497730743597437, 0.8053007231519602, 0.8227093007016681, 0.8892843752126908, 0.8877758837600648, 0.8993646159845435, 0.8385983588121345, 0.8573511428534282, 0.8108866813627952, 0.8439407434849385, 0.8566242986566726, 0.8420736506551512, 0.816794083304026, 0.7978564665195603, 0.8574940601670838, 0.8315320671107161, 0.8414489290094581, 0.8831758624865764, 0.8624534748091882, 0.819106164001374, 0.8071661363039092, 0.8361845740485885, 0.8495334567707589, 0.8714047184891494, 0.8421808155821967, 0.8296919474806328, 0.8871164039380942, 0.8471576549270569, 0.7760231925423964, 0.8284875156852048, 0.8854378400889366, 0.8616184406785588, 0.8204035875788511, 0.8496669582212641, 0.8467908959795607, 0.9092106032030497, 0.8757116120009577, 0.7988150532700434, 0.8433937100075274, 0.8459367847618435, 0.8437663526691506, 0.8228301823730619, 0.833779088139242, 0.8187839495537483, 0.8681122195116675, 0.8610565600983779, 0.8555415149919231, 0.8592279701234081, 0.8456466920074716, 0.8364370705932535, 0.8279183464564659, 0.8546807433283771, 0.8600304190473256, 0.8473964188867532, 0.8548861682797423, 0.8468136988935462, 0.8226291818797224, 0.8193904898431518, 0.872862718709828, 0.8336071224325262, 0.8064285087386941, 0.8296793696884652, 0.8506592689336167, 0.8531655788407472, 0.8737218191047281, 0.8514517649924707, 0.8579638529365146, 0.8473266942037164, 0.8359727046140387, 0.8513196645783272]\n"
     ]
    }
   ],
   "source": [
    "print(arr_thr)"
   ]
  },
  {
   "cell_type": "code",
   "execution_count": 168,
   "id": "e87641ad",
   "metadata": {},
   "outputs": [
    {
     "name": "stdout",
     "output_type": "stream",
     "text": [
      "0.8452651713201773\n",
      "95%CI for Throughput = [0.839,0.851] minutes\n"
     ]
    },
    {
     "data": {
      "text/plain": [
       "(array([ 1.,  2.,  4., 10., 12., 20., 10.,  4.,  5.,  2.]),\n",
       " array([0.77602319, 0.78934193, 0.80266067, 0.81597942, 0.82929816,\n",
       "        0.8426169 , 0.85593564, 0.86925438, 0.88257312, 0.89589186,\n",
       "        0.9092106 ]),\n",
       " <BarContainer object of 10 artists>)"
      ]
     },
     "execution_count": 168,
     "metadata": {},
     "output_type": "execute_result"
    },
    {
     "data": {
      "image/png": "[encoded data removed]",
      "text/plain": [
       "<Figure size 432x288 with 1 Axes>"
      ]
     },
     "metadata": {
      "needs_background": "light"
     },
     "output_type": "display_data"
    }
   ],
   "source": [
    "thr_avg = np.mean(arr_thr)\n",
    "print(thr_avg)\n",
    "thr_CI = ss.norm.interval(alpha = 0.95, loc= np.mean(arr_thr), scale = np.std(arr_thr)/math.sqrt(len(arr_thr)))\n",
    "print(f\"95%CI for Throughput = [{round(thr_CI[0],3)},{round(thr_CI[1],3)}] minutes\") \n",
    "plt.hist(arr_thr, bins=10)\n",
    "# t= np.linspace(0,70,70)\n",
    "# plt.ylim(ymax=1, ymin=0.6)\n",
    "# plt.plot(t, arr_thr)"
   ]
  },
  {
   "cell_type": "code",
   "execution_count": 177,
   "id": "5ed5b5c1",
   "metadata": {},
   "outputs": [
    {
     "data": {
      "text/plain": [
       "list"
      ]
     },
     "execution_count": 177,
     "metadata": {},
     "output_type": "execute_result"
    }
   ],
   "source": [
    "type(arrWIP)"
   ]
  },
  {
   "cell_type": "code",
   "execution_count": 218,
   "id": "1d3911a4",
   "metadata": {},
   "outputs": [
    {
     "name": "stdout",
     "output_type": "stream",
     "text": [
      "(70, 920)\n"
     ]
    }
   ],
   "source": [
    "a = np.array(arrts)\n",
    "arrtsb= a[:,0:-40]\n",
    "print(np.shape(arrtsb))"
   ]
  },
  {
   "cell_type": "code",
   "execution_count": 204,
   "id": "f414046e",
   "metadata": {},
   "outputs": [
    {
     "data": {
      "text/plain": [
       "(30, 960)"
      ]
     },
     "execution_count": 204,
     "metadata": {},
     "output_type": "execute_result"
    }
   ],
   "source": [
    "np.shape(arrts1)"
   ]
  },
  {
   "cell_type": "code",
   "execution_count": 227,
   "id": "3ef50ed0",
   "metadata": {},
   "outputs": [
    {
     "data": {
      "image/png": "[encoded data removed]",
      "text/plain": [
       "<Figure size 432x288 with 1 Axes>"
      ]
     },
     "metadata": {
      "needs_background": "light"
     },
     "output_type": "display_data"
    }
   ],
   "source": [
    "from matplotlib.pyplot import figure\n",
    "for i in range(70):\n",
    "\n",
    "\n",
    "# figure(figsize=(8, 20), dpi=80)\n",
    "    df=pd.DataFrame(arrWIP[i])\n",
    "    avg_data = df.expanding().mean()\n",
    "    arr = np.array(avg_data)\n",
    "    plt.plot(arrtsb[i], arr)\n",
    "plt.xlabel('Time in minutes')\n",
    "plt.ylabel('WIP')\n",
    "plt.title('WIP over time')\n",
    "plt.show()\n"
   ]
  },
  {
   "cell_type": "markdown",
   "id": "fd4bbca3",
   "metadata": {},
   "source": [
    "Based on our WIP over time, the steady state was achieved for time= 200 mins"
   ]
  },
  {
   "cell_type": "code",
   "execution_count": 232,
   "id": "084e9827",
   "metadata": {},
   "outputs": [
    {
     "name": "stdout",
     "output_type": "stream",
     "text": [
      "95%CI at t=100 = [41.085,41.572]\n",
      "95%CI at t=200 = [41.167,41.69]\n",
      "95%CI at t=300 = [41.183,41.674]\n",
      "95%CI at t=400 = [41.192,41.722]\n",
      "95%CI at t=500 = [41.224,41.748]\n",
      "95%CI at t=600 = [41.099,41.587]\n",
      "95%CI at t=700 = [41.099,41.559]\n",
      "95%CI at t=800 = [41.144,41.571]\n",
      "95%CI at t=900 = [41.162,41.666]\n",
      "95%CI at t=1000 = [41.125,41.704]\n",
      "95%CI at t=1100 = [41.078,41.55]\n"
     ]
    },
    {
     "data": {
      "image/png": "[encoded data removed]",
      "text/plain": [
       "<Figure size 432x288 with 1 Axes>"
      ]
     },
     "metadata": {
      "needs_background": "light"
     },
     "output_type": "display_data"
    }
   ],
   "source": [
    "arr = [100,200,300,400,500,600,700,800,900,1000,1100] #time instances at which we want to WIP values\n",
    "ans = []\n",
    "a=[]\n",
    "N= len(arrWIP)\n",
    "for time in arr:\n",
    "    vals_arr = []\n",
    "    for i in range(N):\n",
    "        idx = None\n",
    "        flag = False\n",
    "        for index, t in enumerate(arrtsb[i]):    #identify index closest to arr[i]\n",
    "            if t < time:\n",
    "                idx = index\n",
    "            else:\n",
    "                flag = True\n",
    "                vals_arr.append(arrWIP[i][idx])\n",
    "                break\n",
    "        if flag == False:\n",
    "            vals_arr.append(arrWIP[i][idx])\n",
    "    #print((vals_arr))\n",
    "    a.append(vals_arr)\n",
    "#plotting the mean plot\n",
    "    if vals_arr:\n",
    "        ans.append(sum(vals_arr)/len(vals_arr))\n",
    "#CI calculation at each time instance\n",
    "t = [100,200,300,400,500,600,700,800,900,1000,1100]\n",
    "for i in range(len(a)):\n",
    "    temp = ss.norm.interval(alpha = 0.95, loc= np.mean(a[i]), scale = np.std(a[i])/math.sqrt(len(a[i])))\n",
    "    print(f\"95%CI at t={t[i]} = [{round(temp[0],3)},{round(temp[1],3)}]\")\n",
    "    plt.vlines(t[i],temp[1], temp[0])\n",
    "    plt.errorbar(t[i],np.mean(a[i]),yerr=temp[1]-temp[0], fmt='.k' )\n",
    "\n",
    "\n",
    "plt.plot(arr,ans)\n",
    "plt.show()"
   ]
  },
  {
   "cell_type": "code",
   "execution_count": null,
   "id": "cf1c0c87",
   "metadata": {},
   "outputs": [],
   "source": []
  }
 ],
 "metadata": {
  "kernelspec": {
   "display_name": "Python 3",
   "language": "python",
   "name": "python3"
  },
  "language_info": {
   "codemirror_mode": {
    "name": "ipython",
    "version": 3
   },
   "file_extension": ".py",
   "mimetype": "text/x-python",
   "name": "python",
   "nbconvert_exporter": "python",
   "pygments_lexer": "ipython3",
   "version": "3.8.8"
  }
 },
 "nbformat": 4,
 "nbformat_minor": 5
}
